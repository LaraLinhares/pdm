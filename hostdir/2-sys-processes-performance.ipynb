{
 "cells": [
  {
   "cell_type": "markdown",
   "id": "2880c7e1-6c59-4f74-b04b-1f3f9ee678d8",
   "metadata": {},
   "source": [
    "# EX2-SYS: Jupyter, Python processes, measuring performance\n",
    "\n",
    "Your assignment: complete the `TODO`'s and include also the **output of each cell**."
   ]
  },
  {
   "cell_type": "markdown",
   "id": "8e4606b5-fa6e-4518-8568-1ed3b8bca31b",
   "metadata": {},
   "source": [
    "### Step 1: Download HDFS log file (open data) and Unzip files. Check with professor: this file may be available internally."
   ]
  },
  {
   "cell_type": "code",
   "execution_count": 1,
   "id": "5fda5ff0-dfb2-451b-89b7-1893ee434b4a",
   "metadata": {},
   "outputs": [],
   "source": [
    "!mkdir -p data/"
   ]
  },
  {
   "cell_type": "code",
   "execution_count": 2,
   "id": "3a004927-d165-41cc-8ba4-167008dc3a1a",
   "metadata": {},
   "outputs": [
    {
     "name": "stdout",
     "output_type": "stream",
     "text": [
      "Connecting to zenodo.org (188.185.45.92:443)\n",
      "saving to 'data/HDFS_v1.zip'\n",
      "HDFS_v1.zip          100% |********************************|  177M  0:00:00 ETA\n",
      "'data/HDFS_v1.zip' saved\n",
      "Archive:  data/HDFS_v1.zip\n",
      "  inflating: HDFS.log\n",
      "   creating: preprocessed/\n",
      "  inflating: preprocessed/anomaly_label.csv\n",
      "  inflating: preprocessed/Event_occurrence_matrix.csv\n",
      "  inflating: preprocessed/Event_traces.csv\n",
      "  inflating: preprocessed/HDFS.log_templates.csv\n",
      "  inflating: preprocessed/HDFS.npz\n",
      "  inflating: README.md\n"
     ]
    }
   ],
   "source": [
    "![ -e \"data/hdfs/HDFS.log\" ] || (wget https://zenodo.org/records/8196385/files/HDFS_v1.zip -P data/ && unzip -o data/HDFS_v1.zip -d data/hdfs && rm data/HDFS_v1.zip)"
   ]
  },
  {
   "cell_type": "markdown",
   "id": "48393ca3-d4bf-4a9f-bf7d-283d8533b389",
   "metadata": {},
   "source": [
    "### Step 2: This practice is going to process file `data/hdfs/HDFS.log`. First, create a Python program that counts the number of lines of this file."
   ]
  },
  {
   "cell_type": "code",
   "execution_count": 3,
   "id": "4d59662c-dca5-468b-91e6-db80711e0e8d",
   "metadata": {},
   "outputs": [],
   "source": [
    "def count_lines(file_path):\n",
    "    with open(file_path, 'r') as n:  \n",
    "        n = sum(1 for _ in n)\n",
    "        return n"
   ]
  },
  {
   "cell_type": "markdown",
   "id": "f063793e-24f9-4718-8acd-3ab2751202da",
   "metadata": {},
   "source": [
    "### Step 3: Test your function"
   ]
  },
  {
   "cell_type": "code",
   "execution_count": 4,
   "id": "49e4c7f7-8df8-4ab5-aad2-ce452ba638a9",
   "metadata": {},
   "outputs": [
    {
     "name": "stdout",
     "output_type": "stream",
     "text": [
      "File data/hdfs/HDFS.log has 11175629 lines.\n"
     ]
    }
   ],
   "source": [
    "file_path = 'data/hdfs/HDFS.log'\n",
    "n = count_lines(file_path)\n",
    "print('File %s has %d lines.' % (file_path, n))"
   ]
  },
  {
   "cell_type": "markdown",
   "id": "b4ede053-8d0a-4f94-9d74-1afcad6ded79",
   "metadata": {},
   "source": [
    "### Step 4: Also, get the size of the input file (in bytes)"
   ]
  },
  {
   "cell_type": "code",
   "execution_count": 5,
   "id": "064c8026-9c63-4b0d-915e-c0fa086b7dbc",
   "metadata": {},
   "outputs": [
    {
     "name": "stdout",
     "output_type": "stream",
     "text": [
      "-rw-r--r--    1 root     root     1577982906 Mar 31 03:11 \u001b[0;0mdata/hdfs/HDFS.log\u001b[m\n",
      "1577982906\n"
     ]
    }
   ],
   "source": [
    "!ls -l data/hdfs/HDFS.log\n",
    "!ls -l data/hdfs/HDFS.log | awk '{print $5}'"
   ]
  },
  {
   "cell_type": "markdown",
   "id": "db8338d6-50ae-4f89-854c-c9d41a29253b",
   "metadata": {},
   "source": [
    "### Step 5: List the running Python processes"
   ]
  },
  {
   "cell_type": "code",
   "execution_count": 6,
   "id": "cb9f09d6-1605-45e6-a69e-096c28a8adc3",
   "metadata": {},
   "outputs": [
    {
     "name": "stdout",
     "output_type": "stream",
     "text": [
      "1 /app/.venv/bin/python3 /app/.venv/bin/jupyter-lab --no-browser --ip=0.0.0.0 --allow-root\n",
      "17 /app/.venv/bin/python3 -m ipykernel_launcher -f /root/.local/share/jupyter/runtime/kernel-b30f322e-7274-4618-82ac-5a5949fff650.json\n"
     ]
    }
   ],
   "source": [
    "!pgrep -af '[p]ython'"
   ]
  },
  {
   "cell_type": "markdown",
   "id": "e6f59359-0963-4a34-9f8e-323bad996cc1",
   "metadata": {},
   "source": [
    "### Step 6: Python threads and also child/parent processes"
   ]
  },
  {
   "cell_type": "code",
   "execution_count": 7,
   "id": "9f43795f-f24c-405e-a0a8-2280db3d34ab",
   "metadata": {
    "scrolled": true
   },
   "outputs": [
    {
     "name": "stdout",
     "output_type": "stream",
     "text": [
      "UID        PID  PPID   LWP  C NLWP STIME TTY          TIME CMD\n",
      "root         1     0     1  2    6 03:09 ?        00:00:02 /app/.venv/bin/python3 /app/.venv/bin/jupyter-lab --no-browser --ip=0.0.0.0 --allow-root\n",
      "root         1     0     9  0    6 03:09 ?        00:00:00 /app/.venv/bin/python3 /app/.venv/bin/jupyter-lab --no-browser --ip=0.0.0.0 --allow-root\n",
      "root         1     0    10  0    6 03:09 ?        00:00:00 /app/.venv/bin/python3 /app/.venv/bin/jupyter-lab --no-browser --ip=0.0.0.0 --allow-root\n",
      "root         1     0    18  0    6 03:10 ?        00:00:00 /app/.venv/bin/python3 /app/.venv/bin/jupyter-lab --no-browser --ip=0.0.0.0 --allow-root\n",
      "root         1     0    19  0    6 03:10 ?        00:00:00 /app/.venv/bin/python3 /app/.venv/bin/jupyter-lab --no-browser --ip=0.0.0.0 --allow-root\n",
      "root         1     0    41  0    6 03:10 ?        00:00:00 /app/.venv/bin/python3 /app/.venv/bin/jupyter-lab --no-browser --ip=0.0.0.0 --allow-root\n",
      "root        17     1    17  5   11 03:10 ?        00:00:04 /app/.venv/bin/python3 -m ipykernel_launcher -f /root/.local/share/jupyter/runtime/kernel-b30f322e-7274-4618-82ac-5a5949fff650.json\n",
      "root        17     1    20  0   11 03:10 ?        00:00:00 /app/.venv/bin/python3 -m ipykernel_launcher -f /root/.local/share/jupyter/runtime/kernel-b30f322e-7274-4618-82ac-5a5949fff650.json\n",
      "root        17     1    21  0   11 03:10 ?        00:00:00 /app/.venv/bin/python3 -m ipykernel_launcher -f /root/.local/share/jupyter/runtime/kernel-b30f322e-7274-4618-82ac-5a5949fff650.json\n",
      "root        17     1    22  1   11 03:10 ?        00:00:01 /app/.venv/bin/python3 -m ipykernel_launcher -f /root/.local/share/jupyter/runtime/kernel-b30f322e-7274-4618-82ac-5a5949fff650.json\n",
      "root        17     1    23  0   11 03:10 ?        00:00:00 /app/.venv/bin/python3 -m ipykernel_launcher -f /root/.local/share/jupyter/runtime/kernel-b30f322e-7274-4618-82ac-5a5949fff650.json\n",
      "root        17     1    24  0   11 03:10 ?        00:00:00 /app/.venv/bin/python3 -m ipykernel_launcher -f /root/.local/share/jupyter/runtime/kernel-b30f322e-7274-4618-82ac-5a5949fff650.json\n",
      "root        17     1    25  0   11 03:10 ?        00:00:00 /app/.venv/bin/python3 -m ipykernel_launcher -f /root/.local/share/jupyter/runtime/kernel-b30f322e-7274-4618-82ac-5a5949fff650.json\n",
      "root        17     1    26  0   11 03:10 ?        00:00:00 /app/.venv/bin/python3 -m ipykernel_launcher -f /root/.local/share/jupyter/runtime/kernel-b30f322e-7274-4618-82ac-5a5949fff650.json\n",
      "root        17     1    27  0   11 03:10 ?        00:00:00 /app/.venv/bin/python3 -m ipykernel_launcher -f /root/.local/share/jupyter/runtime/kernel-b30f322e-7274-4618-82ac-5a5949fff650.json\n",
      "root        17     1    28  0   11 03:10 ?        00:00:00 /app/.venv/bin/python3 -m ipykernel_launcher -f /root/.local/share/jupyter/runtime/kernel-b30f322e-7274-4618-82ac-5a5949fff650.json\n",
      "root        17     1    30  0   11 03:10 ?        00:00:00 /app/.venv/bin/python3 -m ipykernel_launcher -f /root/.local/share/jupyter/runtime/kernel-b30f322e-7274-4618-82ac-5a5949fff650.json\n"
     ]
    }
   ],
   "source": [
    "!ps -eLf | head -1\n",
    "!ps -eLf | grep -i '[p]ython'"
   ]
  },
  {
   "cell_type": "markdown",
   "id": "e09a5599-08e6-4417-810d-d55408ce988a",
   "metadata": {},
   "source": [
    "### Step 7: Interpret and write down what does the output from the last two commands actually means (process and thread hierarchy)\n",
    "\n",
    "#### Command '!pgrep -af '[p]ython''\n",
    "- This command searches for all the procedures related to Python there are executing at the moment, and shows the PID of each command. \n",
    "\n",
    "###### First output: 1 /app/.venv/bin/python3 /app/.venv/bin/jupyter-lab --no-browser --ip=0.0.0.0 --allow-root\n",
    "- 1 = PID of the procedure\n",
    "- /app/.venv/bin/python3 = path to the python3 execution\n",
    "- /app/.venv/bin/jupyter-lab = Jupyter lab execution\n",
    "- --no-browser = it means that no windown will be open automatically when the process is executed\n",
    "- --ip=0.0.0.0 = it can accept any connection from IP adresses\n",
    "- --allow-root = allows Jupiter being executed as admin\n",
    "\n",
    "##### Second output: 273 /app/.venv/bin/python3 -m ipykernel_launcher -f /root/.local/share/jupyter/runtime/kernel-651784db-39e7-4c0f-8298-19fdfb91fe05.json\n",
    "- 273 = PID\n",
    "- /app/.venv/bin/python3 = path to the python3 execution\n",
    "- -m ipykernel_launcher = init Jupyter's kernel that executes cells on the notebook\n",
    "- -f /root/.local/share/jupyter/runtime/kernel-651784db-39e7-4c0f-8298-19fdfb91fe05.json = kernel config file path, with connection informations\n",
    "\n",
    "#### !ps -eLf | head -1 \n",
    "- This command lists all the executed process in the system and print only the firt line. It shows informations as UID, PID, PPID, LWP, C... \n",
    "#### !ps -eLf | grep -i '[p]ython'\n",
    "- This command lists the Python processes in execution, such as scrips, server or any other thing. \n",
    "\n",
    "#### Output explanation: \n",
    "- The Jupyter lab process (PID 1) has 5 threads (LWP = 1, 9, 10, 22, 23 | NLWP = 5)\n",
    "- The Python kernel process (PID 273) has 11 threads (LWP = 273, 274, 275, 276, 277, 278, 279, 280, 281, 282, 284 | NLWP = 11)\n",
    "- The main process is the Jupyter lab (PID 1), that interacts with the Python kernel process, both are running as root and has multiple threads in each process."
   ]
  },
  {
   "cell_type": "markdown",
   "id": "e0c080c0-9ccf-4d97-94df-561a40917006",
   "metadata": {},
   "source": [
    "### Step 8: Write a function that categorizes the lines in `HDFS.log` in a nested dictionary:\n",
    "\n",
    "- First level key is log type (info, warn or error, etc). \n",
    "- Second level key is the class that produced that logging line.\n",
    "\n",
    "```json\n",
    "\"info\": {\n",
    "    \"class1\": [...],\n",
    "    \"class2\": [...],\n",
    "    ...\n",
    "},\n",
    "\"warn\": {\n",
    "    \"class1\": [...],\n",
    "    \"class2\": [...],\n",
    "    ...\n",
    "},\n",
    "...\n",
    "```"
   ]
  },
  {
   "cell_type": "code",
   "execution_count": 8,
   "id": "9db8c9c4-c941-443d-b882-fd54f079a61c",
   "metadata": {},
   "outputs": [],
   "source": [
    "def get_logfile_data_as_dict(file_path):\n",
    "    data = dict()\n",
    "\n",
    "    with open(file_path, 'r', encoding='utf-8') as file:\n",
    "        for line in file:\n",
    "            parts = line.split(\" \", 4)  \n",
    "            if len(parts) < 5:\n",
    "                continue  \n",
    "            \n",
    "            log_level = parts[3].lower()  \n",
    "            class_name, message = parts[4].split(\": \", 1) if \": \" in parts[4] else (parts[4], \"\")\n",
    "\n",
    "            if log_level not in data:\n",
    "                data[log_level] = {}  \n",
    "            \n",
    "            if class_name not in data[log_level]:\n",
    "                data[log_level][class_name] = []  \n",
    "            \n",
    "            data[log_level][class_name].append(message.strip())  \n",
    "\n",
    "    return data"
   ]
  },
  {
   "cell_type": "markdown",
   "id": "2ea70462-a525-49fd-b33b-f29100bccf88",
   "metadata": {},
   "source": [
    "### Step 9: Measure the throughput of `count_lines()` and `get_logfile_data_as_dict()`"
   ]
  },
  {
   "cell_type": "code",
   "execution_count": 9,
   "id": "987d6e98-30e2-4382-b410-df677878663c",
   "metadata": {},
   "outputs": [],
   "source": [
    "import time\n",
    "\n",
    "def measure_time_count_lines(file_path):\n",
    "    start_time = time.time()\n",
    "    count_lines(file_path)\n",
    "    elapsed_time = time.time() - start_time\n",
    "    return elapsed_time\n",
    "\n",
    "# TODO: do the same with the other function get_logfile_data_as_dict()\n",
    "def measure_time_get_logfile_data_as_dict(file_path):\n",
    "    start_time = time.time()\n",
    "    get_logfile_data_as_dict(file_path)\n",
    "    elapsed_time = time.time() - start_time\n",
    "    return elapsed_time"
   ]
  },
  {
   "cell_type": "markdown",
   "id": "da19f5d3-bf58-4b11-ad51-39c5c91f232b",
   "metadata": {},
   "source": [
    "### Step 10: Replication: repeat the previous functions a number of times, report each time"
   ]
  },
  {
   "cell_type": "code",
   "execution_count": 10,
   "id": "e904ba3f-4e83-4d67-854e-17ef4225d3d5",
   "metadata": {},
   "outputs": [
    {
     "name": "stdout",
     "output_type": "stream",
     "text": [
      "Time for count_lines:\n",
      "Replication 1: 2.864922 seconds\n",
      "Replication 2: 2.853767 seconds\n",
      "Replication 3: 2.827930 seconds\n",
      "\n",
      "Time for get_logfile_data_as_dict:\n",
      "Replication 1: 19.671370 seconds\n",
      "Replication 2: 17.638382 seconds\n",
      "Replication 3: 16.379560 seconds\n"
     ]
    }
   ],
   "source": [
    "num_replications = 3\n",
    "\n",
    "print(\"Time for count_lines:\")\n",
    "for i in range(num_replications):\n",
    "    time_taken = measure_time_count_lines(file_path)\n",
    "    print(f\"Replication {i+1}: {time_taken:.6f} seconds\")\n",
    "\n",
    "print(\"\\nTime for get_logfile_data_as_dict:\")\n",
    "for i in range(num_replications):\n",
    "    time_taken = measure_time_get_logfile_data_as_dict(file_path)\n",
    "    print(f\"Replication {i+1}: {time_taken:.6f} seconds\")"
   ]
  },
  {
   "cell_type": "markdown",
   "id": "7ca5a2ec-67be-4717-9dde-7f8e55e13a24",
   "metadata": {},
   "source": [
    "### Step 11: Take the average, minimum, maximum and standard deviation of those runtime values"
   ]
  },
  {
   "cell_type": "code",
   "execution_count": 11,
   "id": "071172cd-4193-4dda-a36d-b891a86d6a3f",
   "metadata": {},
   "outputs": [],
   "source": [
    "import statistics\n",
    "\n",
    "num_replications = 3\n",
    "\n",
    "def measure_statistics(file_path, measure_func):\n",
    "    times = []\n",
    "    for i in range(num_replications):\n",
    "        time_taken = measure_func(file_path)\n",
    "        times.append(time_taken)\n",
    "    \n",
    "    avg_time = statistics.mean(times)  \n",
    "    min_time = min(times)\n",
    "    max_time = max(times)  \n",
    "    stddev_time = statistics.stdev(times) \n",
    "\n",
    "    return avg_time, min_time, max_time, stddev_time"
   ]
  },
  {
   "cell_type": "code",
   "execution_count": 12,
   "id": "125d43d3-41fd-40c6-877e-22ff4d790a84",
   "metadata": {},
   "outputs": [
    {
     "name": "stdout",
     "output_type": "stream",
     "text": [
      "Statistics for count_lines:\n",
      "Average: 2.882861 seconds\n",
      "Minimum: 2.751927 seconds\n",
      "Maximum: 3.049078 seconds\n",
      "Standard Deviation: 0.151685 seconds\n",
      "\n",
      "Statistics for get_logfile_data_as_dict:\n",
      "Average: 15.895054 seconds\n",
      "Minimum: 15.612379 seconds\n",
      "Maximum: 16.148815 seconds\n",
      "Standard Deviation: 0.269384 seconds\n"
     ]
    }
   ],
   "source": [
    "print(\"Statistics for count_lines:\")\n",
    "avg_time, min_time, max_time, stddev_time = measure_statistics(file_path, measure_time_count_lines)\n",
    "print(f\"Average: {avg_time:.6f} seconds\")\n",
    "print(f\"Minimum: {min_time:.6f} seconds\")\n",
    "print(f\"Maximum: {max_time:.6f} seconds\")\n",
    "print(f\"Standard Deviation: {stddev_time:.6f} seconds\")\n",
    "\n",
    "print(\"\\nStatistics for get_logfile_data_as_dict:\")\n",
    "avg_time, min_time, max_time, stddev_time = measure_statistics(file_path, measure_time_get_logfile_data_as_dict)\n",
    "print(f\"Average: {avg_time:.6f} seconds\")\n",
    "print(f\"Minimum: {min_time:.6f} seconds\")\n",
    "print(f\"Maximum: {max_time:.6f} seconds\")\n",
    "print(f\"Standard Deviation: {stddev_time:.6f} seconds\")\n"
   ]
  },
  {
   "cell_type": "markdown",
   "id": "832cdbb8-4fe5-441e-88f7-fbc47259cbb9",
   "metadata": {},
   "source": [
    "### Step 12: Response time"
   ]
  },
  {
   "cell_type": "code",
   "execution_count": 13,
   "id": "f71fc36a-077f-4190-8628-d93cb71d831b",
   "metadata": {},
   "outputs": [
    {
     "name": "stdout",
     "output_type": "stream",
     "text": [
      "Python code written to /tmp/server.py\n"
     ]
    }
   ],
   "source": [
    "server_code = \"\"\"import socket\n",
    "import time\n",
    "import random\n",
    "\n",
    "def process_message(message):\n",
    "    print(f\"Received message: {message}\")\n",
    "    time.sleep(random.uniform(0, 1)) # sleep some time, emulate varying serve time\n",
    "    if message == \"stop\":\n",
    "        return True, f\"Processed: {message}\"\n",
    "    else:\n",
    "        return False, f\"Processed: {message}\"    \n",
    "\n",
    "def start_server(host='0.0.0.0', port=12345):\n",
    "    with socket.socket(socket.AF_INET, socket.SOCK_STREAM) as server_socket:\n",
    "        server_socket.setsockopt(socket.SOL_SOCKET, socket.SO_REUSEADDR, 1)\n",
    "        server_socket.bind((host, port))\n",
    "        server_socket.listen(1)\n",
    "        print(f\"Listening on {host}:{port}...\")\n",
    "\n",
    "        stop = False\n",
    "\n",
    "        while not stop:\n",
    "        \n",
    "            conn, addr = server_socket.accept()\n",
    "            with conn:\n",
    "                print(f\"Connection from {addr}\")\n",
    "                data = conn.recv(1024).decode().strip()\n",
    "                if data:\n",
    "                    stop, response = process_message(data)\n",
    "                    conn.sendall(response.encode())\n",
    "                \n",
    "if __name__ == \"__main__\":\n",
    "    start_server()\n",
    "\"\"\"\n",
    "\n",
    "# Write the code to the file\n",
    "server_file_path = '/tmp/server.py'\n",
    "with open(server_file_path, \"w\") as file:\n",
    "    file.write(server_code)\n",
    "\n",
    "print(f\"Python code written to {server_file_path}\")"
   ]
  },
  {
   "cell_type": "code",
   "execution_count": 14,
   "id": "1a264e23-a879-4b11-97e9-c124d2a7880c",
   "metadata": {},
   "outputs": [
    {
     "name": "stdout",
     "output_type": "stream",
     "text": [
      "Python code written to /tmp/client.py\n"
     ]
    }
   ],
   "source": [
    "client_code = \"\"\"import socket\n",
    "import sys\n",
    "import time\n",
    "\n",
    "def send_message(host='127.0.0.1', port=12345, message='Hello, Server!'):\n",
    "    with socket.socket(socket.AF_INET, socket.SOCK_STREAM) as client_socket:\n",
    "        client_socket.connect((host, port))\n",
    "        client_socket.sendall(message.encode())\n",
    "        response = client_socket.recv(1024).decode()\n",
    "        print(f\"Server response: {response}\")\n",
    "\n",
    "if __name__ == \"__main__\":\n",
    "    message = sys.argv[1]\n",
    "    start_time = time.time()\n",
    "    send_message(message=message)\n",
    "    elapsed_time = time.time() - start_time\n",
    "    print(f\"Response time: {elapsed_time} seconds\")\n",
    "\"\"\"\n",
    "\n",
    "# Write the code to the file\n",
    "client_file_path = '/tmp/client.py'\n",
    "with open(client_file_path, \"w\") as file:\n",
    "    file.write(client_code)\n",
    "\n",
    "print(f\"Python code written to {client_file_path}\")"
   ]
  },
  {
   "cell_type": "markdown",
   "id": "e9bac6b3-6ce5-4c25-855b-e11b5447f477",
   "metadata": {},
   "source": [
    "### Step 13: TODO: Open two terminals:\n",
    "\n",
    "- Start by running this on each (pyenv) -- this means that is set to be used a *specific* python installation, including packages and versioning:\n",
    "\n",
    "```bash\n",
    "source /app/.venv/bin/activate\n",
    "```\n",
    "\n",
    "- First one: run server\n",
    "- Second one: run client (a few times)\n",
    "- Include here the output\n",
    "\n",
    "```text\n",
    "Output:\n",
    "...\n",
    "(.venv) a158508c57eb:/app/hostdir# python /tmp/client.py \"Hello World\"\n",
    "Server response: Processed: Hello World\n",
    "Response time: 0.47737956047058105 seconds\n",
    "(.venv) a158508c57eb:/app/hostdir# python /tmp/client.py \"Teste\"\n",
    "Server response: Processed: Teste\n",
    "Response time: 0.2700643539428711 seconds\n",
    "(.venv) a158508c57eb:/app/hostdir# python /tmp/client.py \"Hey Jude\"\n",
    "Server response: Processed: Hey Jude\n",
    "Response time: 0.9488439559936523 seconds\n",
    "(.venv) a158508c57eb:/app/hostdir# \n",
    "\n",
    "(.venv) a158508c57eb:/app/hostdir# python /tmp/server.py\n",
    "Listening on 0.0.0.0:12345...\n",
    "Connection from ('127.0.0.1', 38650)\n",
    "Received message: Hello World\n",
    "Connection from ('127.0.0.1', 41168)\n",
    "Received message: Teste\n",
    "Connection from ('127.0.0.1', 55426)\n",
    "Received message: Hey Jude\n",
    "\n",
    "```"
   ]
  },
  {
   "cell_type": "markdown",
   "id": "86f49ce5-cf49-423e-82fc-dcceddce3bbd",
   "metadata": {},
   "source": [
    "### Step 14: Modify server.py to:\n",
    "1. Construct an in memory dict data using `get_logfile_data_as_dict()`, for the HDFS file.\n",
    "2. Process message function `process_message()` get as input one of the log types (info, warn, error, etc.) and returns the **total of string characters** over all log lines of that type.\n",
    "3. Below the code with the function that must be implemented."
   ]
  },
  {
   "cell_type": "code",
   "execution_count": 18,
   "id": "2a335b83-1b2c-4fdc-b809-3540ffe83f7b",
   "metadata": {},
   "outputs": [
    {
     "name": "stdout",
     "output_type": "stream",
     "text": [
      "Python code written to /tmp/server_modified.py\n"
     ]
    }
   ],
   "source": [
    "server_code_modified = \"\"\"import socket\n",
    "\n",
    "def get_logfile_data_as_dict(file_path):\n",
    "    data = dict()\n",
    "\n",
    "    with open(file_path, 'r', encoding='utf-8') as file:\n",
    "        for line in file:\n",
    "            parts = line.split(\" \", 4)\n",
    "            if len(parts) < 5:\n",
    "                continue\n",
    "            \n",
    "            log_level = parts[3].lower()\n",
    "            class_name, message = parts[4].split(\": \", 1) if \": \" in parts[4] else (parts[4], \"\")\n",
    "\n",
    "            if log_level not in data:\n",
    "                data[log_level] = {}\n",
    "\n",
    "            if class_name not in data[log_level]:\n",
    "                data[log_level][class_name] = []\n",
    "\n",
    "            data[log_level][class_name].append(message.strip())\n",
    "\n",
    "    return data\n",
    "\n",
    "def process_message(message, log_data):\n",
    "    log_level = message.lower()\n",
    "\n",
    "    if log_level not in log_data:\n",
    "        return False, f\"Log level '{log_level}' not found.\"\n",
    "\n",
    "    total_characters = sum(len(msg) for class_name in log_data[log_level] for msg in log_data[log_level][class_name])\n",
    "    \n",
    "    return True, f\"Total characters in '{log_level}' logs: {total_characters}\"\n",
    "\n",
    "def start_server(host='0.0.0.0', port=12345):\n",
    "    logfile_path = 'data/hdfs/HDFS.log'\n",
    "    log_data = get_logfile_data_as_dict(logfile_path)  \n",
    "    \n",
    "    with socket.socket(socket.AF_INET, socket.SOCK_STREAM) as server_socket:\n",
    "        server_socket.setsockopt(socket.SOL_SOCKET, socket.SO_REUSEADDR, 1)\n",
    "        server_socket.bind((host, port))\n",
    "        server_socket.listen(1)\n",
    "        print(f\"Listening on {host}:{port}...\")\n",
    "\n",
    "        stop = False\n",
    "\n",
    "        while not stop:\n",
    "            conn, addr = server_socket.accept()\n",
    "            with conn:\n",
    "                print(f\"Connection from {addr}\")\n",
    "                data = conn.recv(1024).decode().strip()\n",
    "                if data:\n",
    "                    stop, response = process_message(data, log_data) \n",
    "                    conn.sendall(response.encode())\n",
    "\n",
    "if __name__ == \"__main__\":\n",
    "    start_server()\n",
    "\n",
    "\"\"\"\n",
    "\n",
    "# Write the code to the file\n",
    "server_file_path = '/tmp/server_modified.py'\n",
    "with open(server_file_path, \"w\") as file:\n",
    "    file.write(server_code_modified)\n",
    "\n",
    "print(f\"Python code written to {server_file_path}\")"
   ]
  },
  {
   "cell_type": "markdown",
   "id": "8b9962e6-ceda-4a1a-bd69-999c867bcea3",
   "metadata": {},
   "source": [
    "### Step 15: Measure response time with the modified version of server: `server_modified.py`\n",
    "\n",
    "(.venv) a158508c57eb:/app/hostdir# python /tmp/server_modified.py\n",
    "Listening on 0.0.0.0:12345...\n",
    "Connection from ('127.0.0.1', 54848)\n",
    "(.venv) a158508c57eb:/app/hostdir# \n",
    "\n",
    "(.venv) a158508c57eb:/app/hostdir# python /tmp/client.py info\n",
    "Server response: Total characters in 'info' logs: 1002372310\n",
    "Response time: 1.0874755382537842 seconds\n",
    "(.venv) a158508c57eb:/app/hostdir# "
   ]
  }
 ],
 "metadata": {
  "kernelspec": {
   "display_name": "Python 3 (ipykernel)",
   "language": "python",
   "name": "python3"
  },
  "language_info": {
   "codemirror_mode": {
    "name": "ipython",
    "version": 3
   },
   "file_extension": ".py",
   "mimetype": "text/x-python",
   "name": "python",
   "nbconvert_exporter": "python",
   "pygments_lexer": "ipython3",
   "version": "3.12.9"
  }
 },
 "nbformat": 4,
 "nbformat_minor": 5
}
